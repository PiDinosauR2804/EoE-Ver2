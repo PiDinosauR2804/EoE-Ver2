{
 "cells": [
  {
   "cell_type": "code",
   "execution_count": 1,
   "metadata": {},
   "outputs": [
    {
     "name": "stdout",
     "output_type": "stream",
     "text": [
      "Ma trận khoảng cách giữa A và means:\n",
      "[[ 1.73205081  3.46410162  8.66025404 13.85640646]\n",
      " [ 6.92820323  1.73205081  3.46410162  8.66025404]\n",
      " [12.12435565  6.92820323  1.73205081  3.46410162]]\n"
     ]
    }
   ],
   "source": [
    "import numpy as np\n",
    "from scipy.spatial.distance import cdist\n",
    "\n",
    "# Danh sách vector A\n",
    "A = np.array([\n",
    "    [2.0, 3.0, 4.0],\n",
    "    [5.0, 6.0, 7.0],\n",
    "    [8.0, 9.0, 10.0]\n",
    "])\n",
    "\n",
    "# Các mean của các lớp\n",
    "means = np.array([\n",
    "    [1.0, 2.0, 3.0],  # mean class 0\n",
    "    [4.0, 5.0, 6.0],  # mean class 1\n",
    "    [7.0, 8.0, 9.0],  # mean class 2\n",
    "    [10.0, 11.0, 12.0]  # mean class 3\n",
    "])\n",
    "\n",
    "# Tính ma trận khoảng cách (vd: Euclidean)\n",
    "distance_matrix = cdist(A, means, metric='euclidean')\n",
    "\n",
    "# Hiển thị kết quả\n",
    "print(\"Ma trận khoảng cách giữa A và means:\")\n",
    "print(distance_matrix)\n"
   ]
  },
  {
   "cell_type": "code",
   "execution_count": 2,
   "metadata": {},
   "outputs": [
    {
     "ename": "ModuleNotFoundError",
     "evalue": "No module named 'torch'",
     "output_type": "error",
     "traceback": [
      "\u001b[1;31m---------------------------------------------------------------------------\u001b[0m",
      "\u001b[1;31mModuleNotFoundError\u001b[0m                       Traceback (most recent call last)",
      "Cell \u001b[1;32mIn[2], line 1\u001b[0m\n\u001b[1;32m----> 1\u001b[0m \u001b[38;5;28;01mimport\u001b[39;00m \u001b[38;5;21;01mtorch\u001b[39;00m\n",
      "\u001b[1;31mModuleNotFoundError\u001b[0m: No module named 'torch'"
     ]
    }
   ],
   "source": [
    "import torch"
   ]
  },
  {
   "cell_type": "code",
   "execution_count": null,
   "metadata": {},
   "outputs": [],
   "source": []
  }
 ],
 "metadata": {
  "kernelspec": {
   "display_name": "base",
   "language": "python",
   "name": "python3"
  },
  "language_info": {
   "codemirror_mode": {
    "name": "ipython",
    "version": 3
   },
   "file_extension": ".py",
   "mimetype": "text/x-python",
   "name": "python",
   "nbconvert_exporter": "python",
   "pygments_lexer": "ipython3",
   "version": "3.11.7"
  }
 },
 "nbformat": 4,
 "nbformat_minor": 2
}
