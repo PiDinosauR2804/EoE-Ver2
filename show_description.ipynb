{
 "cells": [
  {
   "cell_type": "code",
   "execution_count": 1,
   "metadata": {},
   "outputs": [],
   "source": [
    "import json\n",
    "\n",
    "file_path = 'datasets/FewRel/prompt_label/lb2des_fewrel.json'\n",
    "with open(file_path, 'r', encoding='utf-8') as json_file:\n",
    "    data = json.load(json_file)"
   ]
  },
  {
   "cell_type": "code",
   "execution_count": 3,
   "metadata": {},
   "outputs": [
    {
     "data": {
      "text/plain": [
       "['The relation \"participating team\" (let\\'s represent it as `Pxyz`, where `xyz` is a hypothetical new Wikidata property ID) describes the relationship between a sporting event and the teams that took part in it.  It\\'s',\n",
       " 'The relation \"participating team\" (let\\'s represent it as `Pxyz`, where `xyz` is a placeholder for a new property ID) describes the relationship between a sporting event and the teams that participated in it.  It\\'s',\n",
       " 'The relation \"participating team\" (let\\'s give it the ID P1234 for this example) describes the relationship between a sporting event and the teams that competed in it.  It\\'s analogous to \"participant\" (P',\n",
       " 'The relation \"participating team\" (let\\'s give it the Wikidata property ID `P1234` for this example) describes the teams that took part in a specific event.  It connects an event (e.g., a',\n",
       " 'The relation \"participating team\" (let\\'s denote it as `PXXX` for now, as it\\'s not a standard Wikidata property) links an event (e.g., a cycle race or football match) to the teams that',\n",
       " 'The relation \"participating team\" (let\\'s give it the Wikidata property ID `PXXXX` for now, as it doesn\\'t currently exist) describes the relationship between a sporting event and the teams that took part in it.  It',\n",
       " 'The relation \"participating team\" (let\\'s give it the Wikidata property ID `P1234` for this example) describes the relationship between a sporting event and the teams that participated in it.  It\\'s analogous to \"',\n",
       " 'The relation \"participating team\" (let\\'s denote it as `PXXX` for now, as it\\'s not a standard Wikidata property) describes the relationship between a sporting event and the teams that competed in it.  It\\'s']"
      ]
     },
     "execution_count": 3,
     "metadata": {},
     "output_type": "execute_result"
    }
   ],
   "source": [
    "data['P1923']"
   ]
  },
  {
   "cell_type": "code",
   "execution_count": 1,
   "metadata": {},
   "outputs": [],
   "source": [
    "\n",
    "\n",
    "# file_path = 'datasets/FewRel/prompt_label/FewRel/relation_description_detail_10.txt'\n",
    "file_path = 'datasets/TACRED/prompt_label/TACRED/relation_description_detail_10.txt'\n",
    "with open(file_path, 'r', encoding='utf-8', errors='ignore') as file:\n",
    "    data = file.readlines()"
   ]
  },
  {
   "cell_type": "code",
   "execution_count": 2,
   "metadata": {},
   "outputs": [
    {
     "name": "stdout",
     "output_type": "stream",
     "text": [
      "This relation indicates that a person has been formally accused in a legal context, typically leading to criminal prosecution, as a result of their involvement in a specific incident or act.Examples: John Doe was charged with theft after being caught on surveillance cameras stealing merchandise from the store..; Sarah Smith has been charged with insider trading for allegedly using confidential information to benefit her stock investments..; Tom Johnson was arrested and charged with assault following a bar fight that left another patron injured.\n",
      "In this context, a person faces legal charges due to their alleged actions connected to a particular event, which may result in court proceedings and potential penalties.Examples: Michael Brown is facing charges of driving under the influence after being stopped by the police late at night..; Emily Davis was charged with fraud for her role in a scheme to falsify documents for financial gain..; David Wilson is charged with manslaughter following a tragic accident that resulted in the death of another individual.\n",
      "A person being charged refers to the formal allegation by law enforcement that they engaged in criminal behavior associated with a particular event.Examples: Jessica Lee was charged with vandalism after spray-painting graffiti on public property..; Aaron Perez has been charged with possession of illegal substances after police found drugs in his vehicle during a routine check..; Karen Chen was charged with robbery after a witness identified her at the scene of the crime.\n",
      "This describes the legal process where a person is accused of a crime, often involving investigations and the gathering of evidence pertaining to the event in question.Examples: Christopher White was charged with burglary when his fingerprints were found at the scene of the break-in..; Samantha Green faces charges for embezzlement after an audit revealed missing funds from her department..; Robert Black was charged with domestic violence following an incident reported by a neighbor.\n",
      "This relation encompasses the act of levying official charges against an individual due to their purported illegal actions surrounding a specific event.Examples: Elizabeth Taylor was charged with tax evasion as a result of an investigation into her financial records..; Timothy King has been charged with public intoxication after being found inebriated and causing a disturbance in the city square..; Victoria Hall was charged with identity theft following reports of improper use of another person's identification.\n"
     ]
    }
   ],
   "source": [
    "i = 5\n",
    "k = 5\n",
    "ds_li = data[i].split('\\t')[2:2+k]\n",
    "for ds in ds_li:\n",
    "    print(ds)"
   ]
  },
  {
   "cell_type": "code",
   "execution_count": 5,
   "metadata": {},
   "outputs": [
    {
     "name": "stdout",
     "output_type": "stream",
     "text": [
      "The individual holding the position of head of government is the primary leader responsible for overseeing and guiding the executive branch of a governmental entity such as a town, city, municipality, state, or country. This position involves implementing laws, managing public policies, and representing the government in official capacities.Examples: Justin Trudeau has served as the Prime Minister of Canada since November 4, 2015, making him the head of government for the country..; Angela Merkel held the office of Chancellor of Germany, effectively acting as the head of government until her retirement in 2021..; Sadiq Khan, the Mayor of London, is recognized as the head of government for the Greater London Authority, overseeing various urban policies.\n",
      "The head of government is the official who directs the executive operations of a specific governmental jurisdiction. This role is pivotal in shaping governance, formulating policies, and executing laws while often serving as a representative of the state or government in both domestic and international matters.Examples: Boris Johnson was the head of government in the United Kingdom as Prime Minister, leading the country through significant events like Brexit..; The Chief Minister of a state in India acts as the head of government at the state level, responsible for the administration and execution of state policies..; As the elected mayor, Bill de Blasio served as the head of government for New York City, implementing initiatives to improve urban life.\n"
     ]
    }
   ],
   "source": [
    "i = 5\n",
    "k = 2\n",
    "ds_li = data[i].split('\\t')[2:2+k]\n",
    "for ds in ds_li:\n",
    "    print(ds)"
   ]
  },
  {
   "cell_type": "code",
   "execution_count": 1,
   "metadata": {},
   "outputs": [
    {
     "name": "stdout",
     "output_type": "stream",
     "text": [
      "Bạn là một trợ lý AI có khả năng đọc và hiểu các đoạn văn bản được viết dưới định dạng Markdown. Nhiệm vụ của bạn là phân tích đoạn văn bản, trích xuất thông tin từ bảng và chuyển đổi chúng thành định dạng JSON. Cụ thể, bạn cần tìm bảng chứa thông tin được định dạng với các cột \"Trường\" và \"Giá trị\", sử dụng nội dung trong cột \"Trường\" làm key và nội dung trong cột \"Giá trị\" làm value. Bạn phải loại bỏ các ký hiệu định dạng như dấu ** hoặc khoảng trắng thừa để đảm bảo JSON đầu ra sạch và chính xác. Ví dụ, với đoạn văn bản chứa thông tin dưới dạng bảng Markdown như sau: \n",
      " \"| Trường | Giá trị |\n",
      "|---|---|\n",
      "| **Ngày sự cố** | 28/05/2024 |\n",
      "| **Tên sân bay** | Cát Bi |\n",
      "| **Mã sân bay** | HPH |\". \n",
      " Đầu ra kỳ vọng của bạn sẽ là: {\n",
      "  \"Ngày sự cố\": \"28/05/2024\", \n",
      "  \"Tên sân bay\": \"Cát Bi\",\n",
      "  \"Mã sân bay\": \"HPH\" \n",
      "} \n",
      " Hãy đảm bảo đầu ra chỉ được là JSON hợp lệ, giữ nguyên định dạng và nội dung của các giá trị mà không thêm hoặc bớt thông tin. Ngoài ra, bạn chỉ trích xuất các phần thông tin nằm trong bảng Markdown, bỏ qua các nội dung khác trong đoạn văn.\n"
     ]
    }
   ],
   "source": [
    "system_content =\"Bạn là một trợ lý AI có khả năng đọc và hiểu các đoạn văn bản được viết dưới định dạng Markdown. Nhiệm vụ của bạn là phân tích đoạn văn bản, trích xuất thông tin từ văn bản và chuyển đổi chúng thành định dạng JSON. Cụ thể, bạn các thông tin có thể được được xác định thành cấu trúc \\\"Trường\\\" và \\\"Giá trị\\\", sử dụng nội dung trong phần \\\"Trường\\\" làm key và nội dung trong phần \\\"Giá trị\\\" làm value. Bạn phải loại bỏ các ký hiệu định dạng như dấu ** hoặc khoảng trắng thừa để đảm bảo JSON đầu ra sạch và chính xác. Ví dụ, với đoạn văn bản chứa thông tin dưới dạng văn bản có Markdown như sau: \\n \\\"| Trường | Giá trị |\\n|---|---|\\n| **Ngày sự cố** | 28/05/2024 |\\n| **Tên sân bay** | Cát Bi |\\n| **Mã sân bay** | HPH |\\\". \\n Đầu ra kỳ vọng của bạn sẽ là: {\\n  \\\"Ngày sự cố\\\": \\\"28/05/2024\\\", \\n  \\\"Tên sân bay\\\": \\\"Cát Bi\\\",\\n  \\\"Mã sân bay\\\": \\\"HPH\\\" \\n} \\n Hãy đảm bảo đầu ra chỉ được là JSON hợp lệ, giữ nguyên định dạng và nội dung của các giá trị mà không thêm hoặc bớt thông tin.\"\n",
    "print(system_content)"
   ]
  },
  {
   "cell_type": "code",
   "execution_count": null,
   "metadata": {},
   "outputs": [],
   "source": []
  }
 ],
 "metadata": {
  "kernelspec": {
   "display_name": "base",
   "language": "python",
   "name": "python3"
  },
  "language_info": {
   "codemirror_mode": {
    "name": "ipython",
    "version": 3
   },
   "file_extension": ".py",
   "mimetype": "text/x-python",
   "name": "python",
   "nbconvert_exporter": "python",
   "pygments_lexer": "ipython3",
   "version": "3.11.7"
  }
 },
 "nbformat": 4,
 "nbformat_minor": 2
}
