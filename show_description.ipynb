{
 "cells": [
  {
   "cell_type": "code",
   "execution_count": 1,
   "metadata": {},
   "outputs": [],
   "source": [
    "import json\n",
    "\n",
    "file_path = 'datasets/FewRel/prompt_label/lb2des_fewrel.json'\n",
    "with open(file_path, 'r', encoding='utf-8') as json_file:\n",
    "    data = json.load(json_file)"
   ]
  },
  {
   "cell_type": "code",
   "execution_count": 3,
   "metadata": {},
   "outputs": [
    {
     "data": {
      "text/plain": [
       "['The relation \"participating team\" (let\\'s represent it as `Pxyz`, where `xyz` is a hypothetical new Wikidata property ID) describes the relationship between a sporting event and the teams that took part in it.  It\\'s',\n",
       " 'The relation \"participating team\" (let\\'s represent it as `Pxyz`, where `xyz` is a placeholder for a new property ID) describes the relationship between a sporting event and the teams that participated in it.  It\\'s',\n",
       " 'The relation \"participating team\" (let\\'s give it the ID P1234 for this example) describes the relationship between a sporting event and the teams that competed in it.  It\\'s analogous to \"participant\" (P',\n",
       " 'The relation \"participating team\" (let\\'s give it the Wikidata property ID `P1234` for this example) describes the teams that took part in a specific event.  It connects an event (e.g., a',\n",
       " 'The relation \"participating team\" (let\\'s denote it as `PXXX` for now, as it\\'s not a standard Wikidata property) links an event (e.g., a cycle race or football match) to the teams that',\n",
       " 'The relation \"participating team\" (let\\'s give it the Wikidata property ID `PXXXX` for now, as it doesn\\'t currently exist) describes the relationship between a sporting event and the teams that took part in it.  It',\n",
       " 'The relation \"participating team\" (let\\'s give it the Wikidata property ID `P1234` for this example) describes the relationship between a sporting event and the teams that participated in it.  It\\'s analogous to \"',\n",
       " 'The relation \"participating team\" (let\\'s denote it as `PXXX` for now, as it\\'s not a standard Wikidata property) describes the relationship between a sporting event and the teams that competed in it.  It\\'s']"
      ]
     },
     "execution_count": 3,
     "metadata": {},
     "output_type": "execute_result"
    }
   ],
   "source": [
    "data['P1923']"
   ]
  },
  {
   "cell_type": "code",
   "execution_count": 11,
   "metadata": {},
   "outputs": [],
   "source": [
    "\n",
    "\n",
    "# file_path = 'datasets/FewRel/prompt_label/FewRel/relation_description_detail_10.txt'\n",
    "file_path = 'datasets/TACRED/prompt_label/TACRED/relation_description_detail_10.txt'\n",
    "with open(file_path, 'r', encoding='utf-8', errors='ignore') as file:\n",
    "    data = file.readlines()"
   ]
  },
  {
   "cell_type": "code",
   "execution_count": 12,
   "metadata": {},
   "outputs": [
    {
     "data": {
      "text/plain": [
       "['1',\n",
       " 'organization subsidiaries',\n",
       " \"An organization subsidiary refers to an entity that is controlled by a parent organization, characterized by the parent having significant ownership, usually more than 50% of the subsidiary's voting stock.Examples: The conglomerate ABC Corp owns several subsidiaries, including XYZ Inc., a leading manufacturer in the tech industry..; DEF Ltd. is a subsidiary of GHI Holdings, specializing in renewable energy solutions..; JLM Group has expanded its business through acquisitions, which include multiple subsidiaries across different sectors such as finance and healthcare.\",\n",
       " 'A subsidiary of an organization is a separate legal entity that operates under the umbrella of a larger parent company, allowing the parent to diversify its business activities and manage risk.Examples: MNO Technologies operates various subsidiaries that focus on different aspects of software development, enhancing their market presence..; PQR Network comprises several subsidiaries that support its main broadcasting services, including a production company and advertising agency..; STU Investments owns several real estate subsidiaries, which manage properties in various regions.',\n",
       " \"In corporate structures, a subsidiary is an organization that is governed by and is financially dependent on another organization, ensuring compliance with its directives while maintaining operational autonomy.Examples: VWX Corporation has a subsidiary in Europe that manages its international sales team and regional marketing strategies..; YZA Health Systems includes specialized healthcare subsidiaries focused on patient care and medical research..; BCD Automotive's subsidiaries encompass various automobile brands that target both luxury and budget markets.\",\n",
       " 'An organization forms subsidiaries to expand its market reach and operational capabilities while mitigating financial and legal risks associated with running multiple businesses under one name.Examples: EFG Airlines has a range of subsidiaries, including charter services and maintenance operations..; HIJ Enterprises controls multiple subsidiaries specializing in different consumer goods, allowing for a broader market influence..; KLM Publishing has launched several subsidiaries dedicated to niche book genres, catering to diverse reader preferences.',\n",
       " 'The relationship between an organization and its subsidiaries involves strategic oversight and resource allocation, where the parent organization leverages its subsidiaries for enhanced operational efficiency.Examples: NOP Foods operates a number of subsidiaries focusing on organic products and specialty dietary needs..; QRS Consulting has multiple subsidiaries that offer targeted services such as human resources and IT support..; TUV Pharmaceuticals owns several subsidiaries that conduct research and development for new drugs and treatments.',\n",
       " \"A subsidiary is a business that is primarily controlled by another company, often enhancing the parent company's ability to enter new markets and innovate through specialized offerings.Examples: WXY Motors has established a subsidiary dedicated to electric vehicle production, aligning with global sustainability goals..; ZAB Financial Services includes various subsidiaries that specialize in investment banking, insurance, and wealth management..; CDE Retail owns a subsidiary that runs online sales alongside its traditional brick-and-mortar stores.\",\n",
       " \"An organization's subsidiaries contribute to a larger corporate strategy by focusing on specific market segments or product lines, thereby fostering innovation and growth.Examples: FGH Media has several subsidiaries that produce content for television, radio, and digital platforms..; IJK Textiles includes subsidiaries that focus on sustainable fabric production and supply chain management..; LMN Technologies' subsidiaries are focused on AI development, offering specialized software solutions.\",\n",
       " 'The concept of subsidiaries allows an organization to allocate resources and share technology while maintaining distinct operational teams tailored to specific industry demands.Examples: OPQ Automotive maintains subsidiaries that specialize in electric vehicle technology and traditional combustion engines..; RST Construction has subsidiaries which enable it to handle residential and commercial projects independently..; UVW Insurance operates through various subsidiaries providing customized insurance policies for different sectors.',\n",
       " \"In the business world, subsidiaries enable a parent organization to diversify its portfolio while limiting risk exposure to any single market or product line.Examples: XYZ Corp's subsidiaries are strategically positioned across multiple industries, providing a buffer against economic downturns..; ABC Enterprises fosters innovation by leveraging its subsidiaries to test new business models..; DEF Software collaborates with its subsidiaries to integrate cutting-edge technologies into its existing product offerings.\",\n",
       " \"A subsidiary is a subsidiary organization that operates under the overarching control of a parent corporation, benefiting from shared resources and strategic direction.Examples: GHI Holdings has empowered its subsidiaries to pursue innovative initiatives while adhering to the companys ethical standards..; JKL Corporation's subsidiaries are essential for its global outreach, facilitating localized services and products..; MNO Solutions has subsidiaries that specialize in different areas of digital marketing, enhancing its comprehensive service offering.\",\n",
       " '\\n']"
      ]
     },
     "execution_count": 12,
     "metadata": {},
     "output_type": "execute_result"
    }
   ],
   "source": [
    "data[1].split('\\t')"
   ]
  },
  {
   "cell_type": "code",
   "execution_count": null,
   "metadata": {},
   "outputs": [],
   "source": []
  }
 ],
 "metadata": {
  "kernelspec": {
   "display_name": "base",
   "language": "python",
   "name": "python3"
  },
  "language_info": {
   "codemirror_mode": {
    "name": "ipython",
    "version": 3
   },
   "file_extension": ".py",
   "mimetype": "text/x-python",
   "name": "python",
   "nbconvert_exporter": "python",
   "pygments_lexer": "ipython3",
   "version": "3.11.7"
  }
 },
 "nbformat": 4,
 "nbformat_minor": 2
}
