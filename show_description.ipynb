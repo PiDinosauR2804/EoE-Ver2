{
 "cells": [
  {
   "cell_type": "code",
   "execution_count": 1,
   "metadata": {},
   "outputs": [],
   "source": [
    "import json\n",
    "\n",
    "file_path = 'datasets/FewRel/prompt_label/lb2des_fewrel.json'\n",
    "with open(file_path, 'r', encoding='utf-8') as json_file:\n",
    "    data = json.load(json_file)"
   ]
  },
  {
   "cell_type": "code",
   "execution_count": 3,
   "metadata": {},
   "outputs": [
    {
     "data": {
      "text/plain": [
       "['The relation \"participating team\" (let\\'s represent it as `Pxyz`, where `xyz` is a hypothetical new Wikidata property ID) describes the relationship between a sporting event and the teams that took part in it.  It\\'s',\n",
       " 'The relation \"participating team\" (let\\'s represent it as `Pxyz`, where `xyz` is a placeholder for a new property ID) describes the relationship between a sporting event and the teams that participated in it.  It\\'s',\n",
       " 'The relation \"participating team\" (let\\'s give it the ID P1234 for this example) describes the relationship between a sporting event and the teams that competed in it.  It\\'s analogous to \"participant\" (P',\n",
       " 'The relation \"participating team\" (let\\'s give it the Wikidata property ID `P1234` for this example) describes the teams that took part in a specific event.  It connects an event (e.g., a',\n",
       " 'The relation \"participating team\" (let\\'s denote it as `PXXX` for now, as it\\'s not a standard Wikidata property) links an event (e.g., a cycle race or football match) to the teams that',\n",
       " 'The relation \"participating team\" (let\\'s give it the Wikidata property ID `PXXXX` for now, as it doesn\\'t currently exist) describes the relationship between a sporting event and the teams that took part in it.  It',\n",
       " 'The relation \"participating team\" (let\\'s give it the Wikidata property ID `P1234` for this example) describes the relationship between a sporting event and the teams that participated in it.  It\\'s analogous to \"',\n",
       " 'The relation \"participating team\" (let\\'s denote it as `PXXX` for now, as it\\'s not a standard Wikidata property) describes the relationship between a sporting event and the teams that competed in it.  It\\'s']"
      ]
     },
     "execution_count": 3,
     "metadata": {},
     "output_type": "execute_result"
    }
   ],
   "source": [
    "data['P1923']"
   ]
  },
  {
   "cell_type": "code",
   "execution_count": 6,
   "metadata": {},
   "outputs": [],
   "source": [
    "\n",
    "\n",
    "file_path = 'datasets/FewRel/prompt_label/FewRel/relation_description_detail_10.txt'\n",
    "# file_path = 'datasets/TACRED/prompt_label/TACRED/relation_description_detail_10.txt'\n",
    "with open(file_path, 'r', encoding='utf-8', errors='ignore') as file:\n",
    "    data = file.readlines()"
   ]
  },
  {
   "cell_type": "code",
   "execution_count": 17,
   "metadata": {},
   "outputs": [
    {
     "name": "stdout",
     "output_type": "stream",
     "text": [
      "90\n"
     ]
    },
    {
     "data": {
      "text/plain": [
       "\"The 'place served by transport hub' relationship highlights how a transport hub acts as an exchange point for different modes of transport, significantly impacting the accessibility of a geographic area.Examples: The Tokyo Haneda Airport serves the Tokyo metropolitan area, providing quick access to the heart of the city for domestic travelers..; The Mumbai Chhatrapati Shivaji Maharaj International Airport serves both the city of Mumbai and surrounding areas, offering numerous international routes..; The Paris Charles de Gaulle Airport serves the Île-de-France region, connecting millions of passengers to worldwide destinations each year.\""
      ]
     },
     "execution_count": 17,
     "metadata": {},
     "output_type": "execute_result"
    }
   ],
   "source": [
    "i =5\n",
    "print(len(data[0].split('\\t')[i].split()))\n",
    "data[0].split('\\t')[i]"
   ]
  },
  {
   "cell_type": "code",
   "execution_count": null,
   "metadata": {},
   "outputs": [],
   "source": []
  }
 ],
 "metadata": {
  "kernelspec": {
   "display_name": "base",
   "language": "python",
   "name": "python3"
  },
  "language_info": {
   "codemirror_mode": {
    "name": "ipython",
    "version": 3
   },
   "file_extension": ".py",
   "mimetype": "text/x-python",
   "name": "python",
   "nbconvert_exporter": "python",
   "pygments_lexer": "ipython3",
   "version": "3.11.7"
  }
 },
 "nbformat": 4,
 "nbformat_minor": 2
}
