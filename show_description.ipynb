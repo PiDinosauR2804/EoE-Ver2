{
 "cells": [
  {
   "cell_type": "code",
   "execution_count": 1,
   "metadata": {},
   "outputs": [],
   "source": [
    "import json\n",
    "\n",
    "file_path = 'datasets/FewRel/prompt_label/lb2des_fewrel.json'\n",
    "with open(file_path, 'r', encoding='utf-8') as json_file:\n",
    "    data = json.load(json_file)"
   ]
  },
  {
   "cell_type": "code",
   "execution_count": 3,
   "metadata": {},
   "outputs": [
    {
     "data": {
      "text/plain": [
       "['The relation \"participating team\" (let\\'s represent it as `Pxyz`, where `xyz` is a hypothetical new Wikidata property ID) describes the relationship between a sporting event and the teams that took part in it.  It\\'s',\n",
       " 'The relation \"participating team\" (let\\'s represent it as `Pxyz`, where `xyz` is a placeholder for a new property ID) describes the relationship between a sporting event and the teams that participated in it.  It\\'s',\n",
       " 'The relation \"participating team\" (let\\'s give it the ID P1234 for this example) describes the relationship between a sporting event and the teams that competed in it.  It\\'s analogous to \"participant\" (P',\n",
       " 'The relation \"participating team\" (let\\'s give it the Wikidata property ID `P1234` for this example) describes the teams that took part in a specific event.  It connects an event (e.g., a',\n",
       " 'The relation \"participating team\" (let\\'s denote it as `PXXX` for now, as it\\'s not a standard Wikidata property) links an event (e.g., a cycle race or football match) to the teams that',\n",
       " 'The relation \"participating team\" (let\\'s give it the Wikidata property ID `PXXXX` for now, as it doesn\\'t currently exist) describes the relationship between a sporting event and the teams that took part in it.  It',\n",
       " 'The relation \"participating team\" (let\\'s give it the Wikidata property ID `P1234` for this example) describes the relationship between a sporting event and the teams that participated in it.  It\\'s analogous to \"',\n",
       " 'The relation \"participating team\" (let\\'s denote it as `PXXX` for now, as it\\'s not a standard Wikidata property) describes the relationship between a sporting event and the teams that competed in it.  It\\'s']"
      ]
     },
     "execution_count": 3,
     "metadata": {},
     "output_type": "execute_result"
    }
   ],
   "source": [
    "data['P1923']"
   ]
  },
  {
   "cell_type": "code",
   "execution_count": 1,
   "metadata": {},
   "outputs": [],
   "source": [
    "\n",
    "\n",
    "file_path = 'datasets/FewRel/prompt_label/FewRel/relation_description_detail_10.txt'\n",
    "# file_path = 'datasets/TACRED/prompt_label/TACRED/relation_description_detail_10.txt'\n",
    "with open(file_path, 'r', encoding='utf-8', errors='ignore') as file:\n",
    "    data = file.readlines()"
   ]
  },
  {
   "cell_type": "code",
   "execution_count": 4,
   "metadata": {},
   "outputs": [
    {
     "name": "stdout",
     "output_type": "stream",
     "text": [
      "The individual holding the position of head of government is the primary leader responsible for overseeing and guiding the executive branch of a governmental entity such as a town, city, municipality, state, or country. This position involves implementing laws, managing public policies, and representing the government in official capacities.Examples: Justin Trudeau has served as the Prime Minister of Canada since November 4, 2015, making him the head of government for the country..; Angela Merkel held the office of Chancellor of Germany, effectively acting as the head of government until her retirement in 2021..; Sadiq Khan, the Mayor of London, is recognized as the head of government for the Greater London Authority, overseeing various urban policies.\n",
      "The head of government is the official who directs the executive operations of a specific governmental jurisdiction. This role is pivotal in shaping governance, formulating policies, and executing laws while often serving as a representative of the state or government in both domestic and international matters.Examples: Boris Johnson was the head of government in the United Kingdom as Prime Minister, leading the country through significant events like Brexit..; The Chief Minister of a state in India acts as the head of government at the state level, responsible for the administration and execution of state policies..; As the elected mayor, Bill de Blasio served as the head of government for New York City, implementing initiatives to improve urban life.\n",
      "As the primary authority of the executive branch, the head of government plays a crucial role in leading policy initiatives, facilitating legislative processes, and managing governmental agencies. This position often embodies the face of political leadership in the region governed.Examples: Scott Morrison served as the Prime Minister of Australia and was the head of government during a challenging time marked by natural disasters and a global pandemic..; Carmen Yulín Cruz Soto, the Mayor of San Juan, Puerto Rico, implements decisions as the head of government within the municipality..; The President of France, as the head of government, has substantial powers to influence both domestic and foreign policy decisions.\n",
      "The head of government is tasked with executing laws, leading the governing body, and ensuring that government operations run smoothly. They are often elected or appointed, depending on the specific political structure of the region they govern.Examples: Mateusz Morawiecki serves as the head of government in Poland, overseeing national economic and social policies..; Cynthia Nixon ran for the head of government position in New York, advocating for progressive reforms as part of her campaign..; In her role as Governor of South Carolina, Nikki Haley acted as the head of government of the state.\n",
      "The head of government is responsible for directing the implementation of laws and the administration of the state. This position often includes the formulation of public policy and represents the government's face to the citizens and the rest of the world.Examples: Mario Draghi was appointed as Prime Minister of Italy, assuming the responsibilities of head of government during a critical economic recovery phase..; The President of the United States acts as the chief executive and head of government, leading the nation and guiding its foreign affairs..; As the elected head of government, the Mayor of Chicago, Lori Lightfoot, focuses on local initiatives aimed at improving community well-being.\n"
     ]
    }
   ],
   "source": [
    "i = 5\n",
    "k = 5\n",
    "ds_li = data[i].split('\\t')[2:2+k]\n",
    "for ds in ds_li:\n",
    "    print(ds)"
   ]
  },
  {
   "cell_type": "code",
   "execution_count": 5,
   "metadata": {},
   "outputs": [
    {
     "name": "stdout",
     "output_type": "stream",
     "text": [
      "The individual holding the position of head of government is the primary leader responsible for overseeing and guiding the executive branch of a governmental entity such as a town, city, municipality, state, or country. This position involves implementing laws, managing public policies, and representing the government in official capacities.Examples: Justin Trudeau has served as the Prime Minister of Canada since November 4, 2015, making him the head of government for the country..; Angela Merkel held the office of Chancellor of Germany, effectively acting as the head of government until her retirement in 2021..; Sadiq Khan, the Mayor of London, is recognized as the head of government for the Greater London Authority, overseeing various urban policies.\n",
      "The head of government is the official who directs the executive operations of a specific governmental jurisdiction. This role is pivotal in shaping governance, formulating policies, and executing laws while often serving as a representative of the state or government in both domestic and international matters.Examples: Boris Johnson was the head of government in the United Kingdom as Prime Minister, leading the country through significant events like Brexit..; The Chief Minister of a state in India acts as the head of government at the state level, responsible for the administration and execution of state policies..; As the elected mayor, Bill de Blasio served as the head of government for New York City, implementing initiatives to improve urban life.\n"
     ]
    }
   ],
   "source": [
    "i = 5\n",
    "k = 2\n",
    "ds_li = data[i].split('\\t')[2:2+k]\n",
    "for ds in ds_li:\n",
    "    print(ds)"
   ]
  },
  {
   "cell_type": "code",
   "execution_count": null,
   "metadata": {},
   "outputs": [],
   "source": []
  }
 ],
 "metadata": {
  "kernelspec": {
   "display_name": "base",
   "language": "python",
   "name": "python3"
  },
  "language_info": {
   "codemirror_mode": {
    "name": "ipython",
    "version": 3
   },
   "file_extension": ".py",
   "mimetype": "text/x-python",
   "name": "python",
   "nbconvert_exporter": "python",
   "pygments_lexer": "ipython3",
   "version": "3.11.7"
  }
 },
 "nbformat": 4,
 "nbformat_minor": 2
}
