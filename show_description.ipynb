{
 "cells": [
  {
   "cell_type": "code",
   "execution_count": 1,
   "metadata": {},
   "outputs": [],
   "source": [
    "import json\n",
    "\n",
    "file_path = 'datasets/FewRel/prompt_label/lb2des_fewrel.json'\n",
    "with open(file_path, 'r', encoding='utf-8') as json_file:\n",
    "    data = json.load(json_file)"
   ]
  },
  {
   "cell_type": "code",
   "execution_count": 3,
   "metadata": {},
   "outputs": [
    {
     "data": {
      "text/plain": [
       "['The relation \"participating team\" (let\\'s represent it as `Pxyz`, where `xyz` is a hypothetical new Wikidata property ID) describes the relationship between a sporting event and the teams that took part in it.  It\\'s',\n",
       " 'The relation \"participating team\" (let\\'s represent it as `Pxyz`, where `xyz` is a placeholder for a new property ID) describes the relationship between a sporting event and the teams that participated in it.  It\\'s',\n",
       " 'The relation \"participating team\" (let\\'s give it the ID P1234 for this example) describes the relationship between a sporting event and the teams that competed in it.  It\\'s analogous to \"participant\" (P',\n",
       " 'The relation \"participating team\" (let\\'s give it the Wikidata property ID `P1234` for this example) describes the teams that took part in a specific event.  It connects an event (e.g., a',\n",
       " 'The relation \"participating team\" (let\\'s denote it as `PXXX` for now, as it\\'s not a standard Wikidata property) links an event (e.g., a cycle race or football match) to the teams that',\n",
       " 'The relation \"participating team\" (let\\'s give it the Wikidata property ID `PXXXX` for now, as it doesn\\'t currently exist) describes the relationship between a sporting event and the teams that took part in it.  It',\n",
       " 'The relation \"participating team\" (let\\'s give it the Wikidata property ID `P1234` for this example) describes the relationship between a sporting event and the teams that participated in it.  It\\'s analogous to \"',\n",
       " 'The relation \"participating team\" (let\\'s denote it as `PXXX` for now, as it\\'s not a standard Wikidata property) describes the relationship between a sporting event and the teams that competed in it.  It\\'s']"
      ]
     },
     "execution_count": 3,
     "metadata": {},
     "output_type": "execute_result"
    }
   ],
   "source": [
    "data['P1923']"
   ]
  },
  {
   "cell_type": "code",
   "execution_count": 5,
   "metadata": {},
   "outputs": [],
   "source": [
    "\n",
    "\n",
    "file_path = 'datasets/FewRel/prompt_label/FewRel/relation_description_detail_10.txt'\n",
    "with open(file_path, 'r', encoding='utf-8') as file:\n",
    "    data = file.readlines()"
   ]
  },
  {
   "cell_type": "code",
   "execution_count": 9,
   "metadata": {},
   "outputs": [
    {
     "data": {
      "text/plain": [
       "['1',\n",
       " 'mountain range',\n",
       " 'This relation identifies the mountain range or subrange to which a geographical feature such as a valley or peak is part of, illustrating the hierarchical relationship within a mountain system.Examples: The whistler mountain is part of the coastal mountain range in British Columbia..; The Grand Canyon is located at the edge of the Colorado Plateau mountain range..; Mount Elbert is situated within the Sawatch Range of the Rocky Mountains.',\n",
       " \"The 'mountain range' relation links geographical items to the broader mountain systems they belong to, providing a context for their location and geological formation.Examples: The Appalachian Mountains encompass the Great Smoky Mountains, highlighting their relation..; The Matterhorn is a distinct peak in the Pennine Alps mountain range..; Ben Nevis, the UK's highest peak, is part of the Grampian Mountain range.\",\n",
       " \"This relationship denotes that a geographical feature is a part of a larger mountain range, which may include multiple subranges and peaks, creating a network of connected geography.Examples: The Sierra Nevada range includes not only high peaks but also numerous valleys like Yosemite Valley..; Kilimanjaro is the tallest mountain in the African mountain range known as the East African Highlands..; The Himalayas contain several of the world's highest peaks, including K2, which is part of this vast mountain range.\",\n",
       " 'This relation clarifies how specific geographical locations relate to mountain ranges, helping to categorize and understand their geological connections.Examples: The Windswept Plateau is associated with the Rocky Mountain range..; Canyonlands National Park is situated adjacent to the La Sal Mountain range..; Mount Fuji, an iconic peak, belongs to the Fuji-Hakone-Izu National Park, which is part of the surrounding mountain ranges.',\n",
       " 'In this relation, a geographical entity is classified under a mountain range, indicating its physical and geological context within a larger formation.Examples: The Urals form a natural boundary, where the city of Yekaterinburg lies at the foot of these ancient mountains..; The Andes mountains group encompasses several peaks, including Aconcagua, the highest peak in South America..; The Sierra Madre Oriental runs parallel to the Gulf of Mexico, defining the eastern edge of the mountain system.',\n",
       " 'This relation connects individual geographic features to their respective mountain ranges, which consist of a complex system of interrelated terrains.Examples: The Teton Range extends north from Jackson Hole, forming a crucial aspect of the larger Rocky Mountain range..; Mount Olympus stands proudly as part of the Olympic Mountain range in Washington state..; The Cascade Range hosts Mount Rainier, a towering volcano among its diverse mountain landscapes.',\n",
       " 'This relation emphasizes the association of particular features with a specific mountain range, enhancing the understanding of their geological heritage.Examples: Mount Washington is a prominent peak located in the Presidential Range of the White Mountains..; Antarctica has various mountain ranges, with the Ellsworth Mountains marking its significant peaks..; The Great Dividing Range is the backbone of eastern Australia, featuring famous peaks and valleys.',\n",
       " \"This relation underlines how various geographical items belong to and interact with mountain ranges, contributing to their ecological and geographical significance.Examples: The Dolomites, a mountain range in Italy, include several notable peaks known for their unique geology..; The Atlas Mountains are a defining feature of Morocco's landscape, incorporating diverse geological formations..; Mount Kinabalu lies within the Crocker Range of Borneo, highlighting the biodiversity in its ecosystems.\",\n",
       " 'This relation identifies how geographical objects, such as valleys, towns or peaks, relate to a mountain range, outlining a larger environmental framework.Examples: The Bitterroot Valley is surrounded by the Bitterroot Mountain Range in Montana..; The Swiss Alps feature the Matterhorn, a mountain belonging to this famous and extensive range..; The San Bernardino Mountains are home to several iconic landmarks, encapsulating their attraction for outdoor enthusiasts.',\n",
       " 'This relation categorizes specific natural features according to their placement and geological relevance within a mountain range, illustrating their interconnectedness.Examples: The Smoky Mountains encompass numerous waterfalls and ravines, showcasing their intricate networks..; Mount Everest, the highest peak in the world, is part of the majestic Himalayan mountain range..; The Rocky Mountains stretch over 3,000 miles and house many national parks along their expanse.',\n",
       " '\\n']"
      ]
     },
     "execution_count": 9,
     "metadata": {},
     "output_type": "execute_result"
    }
   ],
   "source": [
    "data[1].split('\\t')"
   ]
  },
  {
   "cell_type": "code",
   "execution_count": null,
   "metadata": {},
   "outputs": [],
   "source": []
  }
 ],
 "metadata": {
  "kernelspec": {
   "display_name": "base",
   "language": "python",
   "name": "python3"
  },
  "language_info": {
   "codemirror_mode": {
    "name": "ipython",
    "version": 3
   },
   "file_extension": ".py",
   "mimetype": "text/x-python",
   "name": "python",
   "nbconvert_exporter": "python",
   "pygments_lexer": "ipython3",
   "version": "3.11.7"
  }
 },
 "nbformat": 4,
 "nbformat_minor": 2
}
